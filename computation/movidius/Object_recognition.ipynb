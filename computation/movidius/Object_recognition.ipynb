{
 "cells": [
  {
   "cell_type": "markdown",
   "metadata": {},
   "source": [
    "# Object recognition using MobileNet using Inception"
   ]
  },
  {
   "cell_type": "code",
   "execution_count": 1,
   "metadata": {},
   "outputs": [],
   "source": [
    "import mvnc.mvncapi as fx\n",
    "import sys\n",
    "import numpy\n",
    "import cv2"
   ]
  },
  {
   "cell_type": "markdown",
   "metadata": {},
   "source": [
    "# Input data and network graph"
   ]
  },
  {
   "cell_type": "code",
   "execution_count": 2,
   "metadata": {},
   "outputs": [],
   "source": [
    "path_to_networks = 'setup/'\n",
    "graph_filename = 'graph'\n",
    "image_filename = 'data/' + 'image2.jpg'"
   ]
  },
  {
   "cell_type": "markdown",
   "metadata": {},
   "source": [
    "# Connecting to the Intel Compute Stick"
   ]
  },
  {
   "cell_type": "code",
   "execution_count": 3,
   "metadata": {},
   "outputs": [],
   "source": [
    "#mvnc.SetGlobalOption(mvnc.GlobalOption.LOGLEVEL, 2)\n",
    "devices = fx.enumerate_devices()\n",
    "if len(devices) == 0:\n",
    "    print('No devices found')\n",
    "    quit()\n",
    "    \n",
    "device = fx.Device(devices[0])\n",
    "device.open()"
   ]
  },
  {
   "cell_type": "markdown",
   "metadata": {},
   "source": [
    "# Load graph"
   ]
  },
  {
   "cell_type": "code",
   "execution_count": 4,
   "metadata": {},
   "outputs": [],
   "source": [
    "with open(path_to_networks + graph_filename, mode='rb') as f:\n",
    "    graphfile = f.read()"
   ]
  },
  {
   "cell_type": "markdown",
   "metadata": {},
   "source": [
    "# Load the labels"
   ]
  },
  {
   "cell_type": "code",
   "execution_count": 5,
   "metadata": {},
   "outputs": [
    {
     "name": "stdout",
     "output_type": "stream",
     "text": [
      "Number of categories: 1001\n"
     ]
    }
   ],
   "source": [
    "#Load preprocessing data\n",
    "mean = 128 \n",
    "std = 1.0/128.0 \n",
    "\n",
    "#Load categories\n",
    "categories = []\n",
    "with open(path_to_networks + 'categories.txt', 'r') as f:\n",
    "    for line in f:\n",
    "        cat = line.split('\\n')[0]\n",
    "        if cat != 'classes':\n",
    "            categories.append(cat)\n",
    "    f.close()\n",
    "    print('Number of categories:', len(categories))"
   ]
  },
  {
   "cell_type": "markdown",
   "metadata": {},
   "source": [
    "# Image size input to network"
   ]
  },
  {
   "cell_type": "code",
   "execution_count": 6,
   "metadata": {},
   "outputs": [],
   "source": [
    "#Load image size\n",
    "with open(path_to_networks + 'inputsize.txt', 'r') as f:\n",
    "    reqsize = int(f.readline().split('\\n')[0])"
   ]
  },
  {
   "cell_type": "code",
   "execution_count": 7,
   "metadata": {},
   "outputs": [],
   "source": [
    "graph = fx.Graph('graph1')\n",
    "\n",
    "with open(path_to_networks+graph_filename, 'rb') as f:\n",
    "    graph_buffer = f.read()\n",
    "\n",
    "input_fifo, output_fifo = graph.allocate_with_fifos(device, graph_buffer)\n"
   ]
  },
  {
   "cell_type": "markdown",
   "metadata": {},
   "source": [
    "# Input Image to the Network"
   ]
  },
  {
   "cell_type": "code",
   "execution_count": 8,
   "metadata": {},
   "outputs": [],
   "source": [
    "img = cv2.imread(image_filename)#.astype(numpy.float32)"
   ]
  },
  {
   "cell_type": "code",
   "execution_count": 9,
   "metadata": {},
   "outputs": [
    {
     "data": {
      "text/plain": [
       "<matplotlib.figure.Figure at 0x7f36989281d0>"
      ]
     },
     "metadata": {},
     "output_type": "display_data"
    }
   ],
   "source": [
    "from matplotlib import pyplot as plt\n",
    "plt.imshow(img)\n",
    "plt.show()"
   ]
  },
  {
   "cell_type": "code",
   "execution_count": 10,
   "metadata": {},
   "outputs": [],
   "source": [
    "dx,dy,dz= img.shape\n",
    "delta=float(abs(dy-dx))\n",
    "if dx > dy: #crop the x dimension\n",
    "    img=img[int(0.5*delta):dx-int(0.5*delta),0:dy]\n",
    "else:\n",
    "    img=img[0:dx,int(0.5*delta):dy-int(0.5*delta)]\n",
    "    \n",
    "img = cv2.resize(img, (reqsize, reqsize))\n",
    "\n",
    "img=cv2.cvtColor(img,cv2.COLOR_BGR2RGB)\n",
    "\n",
    "for i in range(3):\n",
    "    img[:,:,i] = (img[:,:,i] - mean) * std"
   ]
  },
  {
   "cell_type": "markdown",
   "metadata": {},
   "source": [
    "# Inference on the Intel Compute Stick"
   ]
  },
  {
   "cell_type": "code",
   "execution_count": 11,
   "metadata": {
    "scrolled": true
   },
   "outputs": [
    {
     "name": "stdout",
     "output_type": "stream",
     "text": [
      "Start download to NCS...\n",
      "*******************************************************************************\n",
      "Time taken is: 0.057666778564453125\n",
      "*******************************************************************************\n",
      "MobileNet on NCS\n",
      "*******************************************************************************\n",
      "972 bubble 0.60791\n",
      "563 fountain 0.103943\n",
      "820 stage 0.036499\n",
      "815 speedboat 0.0267181\n",
      "101 black swan, Cygnus atratus 0.0226746\n",
      "*******************************************************************************\n"
     ]
    }
   ],
   "source": [
    "import time\n",
    "\n",
    "print('Start download to NCS...')\n",
    "\n",
    "starttime=time.time()\n",
    "graph.queue_inference_with_fifo_elem(input_fifo, output_fifo, img.astype(numpy.float32), 'user object')\n",
    "\n",
    "output, userobj = output_fifo.read_elem()\n",
    "\n",
    "endtime=time.time()\n",
    "\n",
    "print('*'*79)\n",
    "print('Time taken is:',endtime-starttime)\n",
    "top_inds = output.argsort()[::-1][:5]\n",
    "\n",
    "print(''.join(['*' for i in range(79)]))\n",
    "print('MobileNet on NCS')\n",
    "print(''.join(['*' for i in range(79)]))\n",
    "for i in range(5):\n",
    "    print(top_inds[i], categories[top_inds[i]], output[top_inds[i]])\n",
    "    \n",
    "\n",
    "print(''.join(['*' for i in range(79)]))"
   ]
  },
  {
   "cell_type": "markdown",
   "metadata": {},
   "source": [
    "# Final Clean Up"
   ]
  },
  {
   "cell_type": "code",
   "execution_count": 12,
   "metadata": {},
   "outputs": [
    {
     "name": "stdout",
     "output_type": "stream",
     "text": [
      "Finished\n"
     ]
    }
   ],
   "source": [
    "input_fifo.destroy()\n",
    "output_fifo.destroy()\n",
    "graph.destroy()\n",
    "device.close()\n",
    "device.destroy()\n",
    "print('Finished')"
   ]
  }
 ],
 "metadata": {
  "kernelspec": {
   "display_name": "Python 3",
   "language": "python",
   "name": "python3"
  },
  "language_info": {
   "codemirror_mode": {
    "name": "ipython",
    "version": 3
   },
   "file_extension": ".py",
   "mimetype": "text/x-python",
   "name": "python",
   "nbconvert_exporter": "python",
   "pygments_lexer": "ipython3",
   "version": "3.5.2"
  }
 },
 "nbformat": 4,
 "nbformat_minor": 2
}
