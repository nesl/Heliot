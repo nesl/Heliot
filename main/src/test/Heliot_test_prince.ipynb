{
 "cells": [
  {
   "cell_type": "markdown",
   "metadata": {},
   "source": [
    "# Workflow\n",
    "## 1. Define testbed\n",
    "## 2. Define Scenario\n",
    "## 3. Run Scenario on Testbed"
   ]
  },
  {
   "cell_type": "markdown",
   "metadata": {},
   "source": [
    "# 1. Define Testbed"
   ]
  },
  {
   "cell_type": "code",
   "execution_count": 1,
   "metadata": {},
   "outputs": [],
   "source": [
    "import sys\n",
    "sys.path.append('../')\n",
    "from testbed import *\n",
    "\n",
    "\n",
    "def get_connection(ip='', username='', password=''):\n",
    "    con = connection('_ssh')\n",
    "    con.add_attribute('_ip',ip)\n",
    "    con.add_attribute('_username',username)\n",
    "    con.add_attribute('_password',password)\n",
    "    return con\n",
    "\n",
    "\n",
    "def get_testbed():\n",
    "\n",
    "    # Device\n",
    "    device_server = device(id='prince_device',type='_server')\n",
    "    device_server.add_os(osHeliot('_linux'))\n",
    "    device_server.add_connection(get_connection('127.0.0.1','prince', 'he@35!saFE'))\n",
    "    \n",
    "    my_testbed = testbed(name='prince_testbed')\n",
    "\n",
    "    # Adding devices\n",
    "    my_testbed.add_device(device_server)\n",
    "\n",
    "    return my_testbed"
   ]
  },
  {
   "cell_type": "code",
   "execution_count": 2,
   "metadata": {},
   "outputs": [
    {
     "name": "stdout",
     "output_type": "stream",
     "text": [
      "Adding device  prince_device  to testbed\n"
     ]
    }
   ],
   "source": [
    "my_testbed = get_testbed()"
   ]
  },
  {
   "cell_type": "markdown",
   "metadata": {},
   "source": [
    "## Validating the testbed"
   ]
  },
  {
   "cell_type": "code",
   "execution_count": 3,
   "metadata": {},
   "outputs": [
    {
     "name": "stderr",
     "output_type": "stream",
     "text": [
      "2019-12-03 20:25:09,810 - testbed - INFO - Validating the devices in Testbed\n",
      "2019-12-03 20:25:11,848 - testbed - INFO - prince_device is connected\n",
      "2019-12-03 20:25:12,427 - testbed - INFO - heliot_runtime directory created\n",
      "2019-12-03 20:25:14,445 - testbed - INFO - Heliot repo downloaded from Github\n",
      "2019-12-03 20:25:14,447 - testbed - INFO - heliot initalization done for prince_device\n",
      "2019-12-03 20:25:14,447 - testbed - INFO - Testbed validated\n"
     ]
    }
   ],
   "source": [
    "# 1) Test the reachability of devices\n",
    "# 2) Download the Heliot repo from github on devices\n",
    "\n",
    "# 3) Starts the Heliot slaves on all the devices. \n",
    "## (Provides the RPC functionality to run Tasks)\n",
    "\n",
    "# In Andriod and other non-linux/window based devices, \n",
    "# assumption is these are setup by the user. Eg: using Android client of Heliot\n",
    "\n",
    "my_testbed.validate()"
   ]
  },
  {
   "cell_type": "markdown",
   "metadata": {},
   "source": [
    "# 2. Defining the Scenario"
   ]
  },
  {
   "cell_type": "markdown",
   "metadata": {},
   "source": [
    "## Nodes"
   ]
  },
  {
   "cell_type": "code",
   "execution_count": 4,
   "metadata": {},
   "outputs": [
    {
     "name": "stdout",
     "output_type": "stream",
     "text": [
      "Adding node  n1  to scenario\n",
      "Adding node  n2  to scenario\n",
      "Adding node  n3  to scenario\n",
      "Adding node  n4  to scenario\n",
      "Adding infranode  vs1  to scenario\n"
     ]
    }
   ],
   "source": [
    "from scenario import *\n",
    "myScenario = scenario(name='Prince_Simple_Scenario')\n",
    "\n",
    "server_node_1 = node(type='_server', id = 'n1')\n",
    "myScenario.add_node(server_node_1)\n",
    "\n",
    "server_node_2 = node(type='_server', id = 'n2')\n",
    "myScenario.add_node(server_node_2)\n",
    "\n",
    "server_node_3 = node(type='_server', id = 'n3')\n",
    "myScenario.add_node(server_node_3)\n",
    "\n",
    "server_node_4 = node(type='_server', id = 'n4')\n",
    "myScenario.add_node(server_node_4)\n",
    "\n",
    "virtual_switch = infranode(type='_switch', id='vs1')\n",
    "myScenario.add_infranode(virtual_switch)"
   ]
  },
  {
   "cell_type": "markdown",
   "metadata": {},
   "source": [
    "## Links between Nodes"
   ]
  },
  {
   "cell_type": "code",
   "execution_count": 5,
   "metadata": {},
   "outputs": [],
   "source": [
    "link_n1_vswitch= mininetLink(name='link_n1_vswitch', id_1='n1',id_2='vs1')\n",
    "link_n1_vswitch.add_attribute('_latency', '2') #latency in milli seconds\n",
    "\n",
    "link_n2_vswitch= mininetLink(name='link_n2_vswitch', id_1='n2',id_2='vs1')\n",
    "link_n2_vswitch.add_attribute('_latency', '2')\n",
    "\n",
    "link_n3_vswitch= mininetLink(name='link_n3_vswitch', id_1='n3',id_2='vs1')\n",
    "link_n3_vswitch.add_attribute('_latency', '2')\n",
    "\n",
    "link_n4_vswitch= mininetLink(name='link_n4_vswitch', id_1='n4',id_2='vs1')\n",
    "link_n4_vswitch.add_attribute('_latency', '2')"
   ]
  },
  {
   "cell_type": "code",
   "execution_count": 6,
   "metadata": {},
   "outputs": [
    {
     "name": "stdout",
     "output_type": "stream",
     "text": [
      "Adding mininetLink  link_n1_vswitch  to scenario\n",
      "Adding mininetLink  link_n2_vswitch  to scenario\n",
      "Adding mininetLink  link_n3_vswitch  to scenario\n",
      "Adding mininetLink  link_n4_vswitch  to scenario\n"
     ]
    }
   ],
   "source": [
    "myScenario.add_mininetLink(link_n1_vswitch)\n",
    "myScenario.add_mininetLink(link_n2_vswitch)\n",
    "myScenario.add_mininetLink(link_n3_vswitch)\n",
    "myScenario.add_mininetLink(link_n4_vswitch)"
   ]
  },
  {
   "cell_type": "markdown",
   "metadata": {},
   "source": [
    "## Tasks and Dataflow between Tasks"
   ]
  },
  {
   "cell_type": "code",
   "execution_count": 7,
   "metadata": {},
   "outputs": [
    {
     "name": "stdout",
     "output_type": "stream",
     "text": [
      "task1_data : is set as output for task:  task1\n",
      "task2_data : is set as output for task:  task2\n",
      "task1_data : is set as input for task: task3\n",
      "task2_data : is set as input for task: task3\n",
      "task1_data : is set as input for task: task4\n",
      "task2_data : is set as input for task: task4\n"
     ]
    }
   ],
   "source": [
    "task1_sendNum = taskHeliot(_type='_compute', _taskid='task1', _file='task1', _nodeid='n1')\n",
    "task2_sendNum = taskHeliot(_type='_compute', _taskid='task2', _file='task2', _nodeid='n2')\n",
    "task3_add = taskHeliot(_type='_compute', _taskid='task3', _file='task3', _nodeid='n3')\n",
    "task4_mult = taskHeliot(_type='_compute', _taskid='task4', _file='task4', _nodeid='n4')\n",
    "\n",
    "task1_data = task1_sendNum.get_output('task1_data')\n",
    "task2_data = task2_sendNum.get_output('task2_data')\n",
    "task3_add.set_input([task1_data, task2_data])\n",
    "task4_mult.set_input([task1_data, task2_data])"
   ]
  },
  {
   "cell_type": "code",
   "execution_count": 8,
   "metadata": {},
   "outputs": [
    {
     "name": "stdout",
     "output_type": "stream",
     "text": [
      "Adding task: task1\n",
      "Adding task: task2\n",
      "Adding task: task3\n",
      "Adding task: task4\n"
     ]
    }
   ],
   "source": [
    "myScenario.add_task(task1_sendNum)\n",
    "myScenario.add_task(task2_sendNum)\n",
    "myScenario.add_task(task3_add)\n",
    "myScenario.add_task(task4_mult)"
   ]
  },
  {
   "cell_type": "code",
   "execution_count": 9,
   "metadata": {},
   "outputs": [],
   "source": [
    "## Node mapping and ## Task mapping are implicit here based on \n",
    "## Node_types and node_ids in the task definition"
   ]
  },
  {
   "cell_type": "markdown",
   "metadata": {},
   "source": [
    "# 3. Run Scenario on Testbed"
   ]
  },
  {
   "cell_type": "code",
   "execution_count": 10,
   "metadata": {},
   "outputs": [
    {
     "name": "stdout",
     "output_type": "stream",
     "text": [
      "Adding scenario to the testbed\n"
     ]
    }
   ],
   "source": [
    "my_testbed.set_scenario(myScenario)"
   ]
  },
  {
   "cell_type": "code",
   "execution_count": 11,
   "metadata": {},
   "outputs": [],
   "source": [
    "# We need mapping of nodes and devices\n",
    "# We also need mapping of tasks and nodes"
   ]
  },
  {
   "cell_type": "markdown",
   "metadata": {},
   "source": [
    "## Setting up the network topology as per Scenario"
   ]
  },
  {
   "cell_type": "code",
   "execution_count": 12,
   "metadata": {},
   "outputs": [],
   "source": [
    "# my_testbed.start_network()"
   ]
  },
  {
   "cell_type": "code",
   "execution_count": 13,
   "metadata": {},
   "outputs": [],
   "source": [
    "# for host in my_testbed._net._hosts:\n",
    "#     print(host + \":\", my_testbed._net._hosts[host].IP())\n",
    "    \n",
    "# my_testbed._net._switches['vs10'].IP()"
   ]
  },
  {
   "cell_type": "markdown",
   "metadata": {},
   "source": [
    "## Starting the Scenario Tasks\n",
    "\n",
    "## Note: Working on task scheduling"
   ]
  },
  {
   "cell_type": "code",
   "execution_count": 14,
   "metadata": {},
   "outputs": [
    {
     "name": "stdout",
     "output_type": "stream",
     "text": [
      "Mapping Task: task3 , on node: n3 , mapped to device: prince_device\n",
      "Mapping Task: task4 , on node: n4 , mapped to device: prince_device\n",
      "Mapping Task: task1 , on node: n1 , mapped to device: prince_device\n",
      "Mapping Task: task2 , on node: n2 , mapped to device: prince_device\n",
      "{'prince_device': {'ip': '127.0.0.1'}, 'task3': {'in_port': 8000, 'out_ports': {}, 'device': 'prince_device', 'out_devices': {}}, 'task4': {'in_port': 8001, 'out_ports': {}, 'device': 'prince_device', 'out_devices': {}}, 'task1': {'in_port': None, 'out_ports': {'task1_data': []}, 'device': 'prince_device', 'out_devices': {'task1_data': []}}, 'task2': {'in_port': None, 'out_ports': {'task2_data': []}, 'device': 'prince_device', 'out_devices': {'task2_data': []}}}\n"
     ]
    }
   ],
   "source": [
    "my_testbed.map_task(task3_add)\n",
    "my_testbed.map_task(task4_mult)\n",
    "my_testbed.map_task(task1_sendNum)\n",
    "my_testbed.map_task(task2_sendNum)\n",
    "\n",
    "my_testbed.dataflow_mapping('../mapping.json')"
   ]
  },
  {
   "cell_type": "code",
   "execution_count": 15,
   "metadata": {},
   "outputs": [],
   "source": [
    "#my_testbed.start_tasks()"
   ]
  },
  {
   "cell_type": "code",
   "execution_count": 16,
   "metadata": {},
   "outputs": [],
   "source": [
    "# my_testbed.start_task(task3_add)\n",
    "# my_testbed.start_task(task4_mult)"
   ]
  },
  {
   "cell_type": "code",
   "execution_count": 17,
   "metadata": {},
   "outputs": [
    {
     "name": "stdout",
     "output_type": "stream",
     "text": [
      "Attempting to start Task: task1 , on node: n1 , mapped to device: prince_device\n",
      "Attempting to start Task: task1 , mapped to device: prince_device\n"
     ]
    },
    {
     "name": "stderr",
     "output_type": "stream",
     "text": [
      "2019-12-03 20:25:16,714 - testbed - INFO - prince_device is connected\n"
     ]
    },
    {
     "name": "stdout",
     "output_type": "stream",
     "text": [
      "Running task1\n"
     ]
    }
   ],
   "source": [
    "# from time import sleep\n",
    "# sleep(2)\n",
    "\n",
    "my_testbed.start_task(task1_sendNum)\n",
    "# my_testbed.start_task(task2_sendNum)"
   ]
  },
  {
   "cell_type": "code",
   "execution_count": null,
   "metadata": {},
   "outputs": [],
   "source": [
    "wait = input()"
   ]
  },
  {
   "cell_type": "code",
   "execution_count": null,
   "metadata": {},
   "outputs": [],
   "source": [
    "# my_testbed.stop_network()"
   ]
  }
 ],
 "metadata": {
  "kernelspec": {
   "display_name": "Mininet Py3.6",
   "language": "python",
   "name": "mininet"
  },
  "language_info": {
   "codemirror_mode": {
    "name": "ipython",
    "version": 3
   },
   "file_extension": ".py",
   "mimetype": "text/x-python",
   "name": "python",
   "nbconvert_exporter": "python",
   "pygments_lexer": "ipython3",
   "version": "3.6.9"
  }
 },
 "nbformat": 4,
 "nbformat_minor": 2
}
