{
 "cells": [
  {
   "cell_type": "markdown",
   "metadata": {},
   "source": [
    "# Testing the scenario.py: Node, virtual sensors, tasks and mappings"
   ]
  },
  {
   "cell_type": "code",
   "execution_count": 1,
   "metadata": {},
   "outputs": [],
   "source": [
    "import sys\n",
    "sys.path.append('../')"
   ]
  },
  {
   "cell_type": "markdown",
   "metadata": {},
   "source": [
    "## 1. Define Airsim virtual sensors.\n",
    "## 2. Define Nodes\n",
    "## 3. Define infranodes\n",
    "## 4. Define links between nodes/virtual sensors and infranodes\n",
    "## 5. Define Tasks.\n",
    "## 6. Define Dataflow between Tasks\n",
    "## 7. Define Node mappings. (Node to device mappings)\n",
    "## 8. Define Task mapping. (Task to Node mappings)"
   ]
  },
  {
   "cell_type": "markdown",
   "metadata": {},
   "source": [
    "### Importing heliot scenario definition file"
   ]
  },
  {
   "cell_type": "code",
   "execution_count": 2,
   "metadata": {},
   "outputs": [],
   "source": [
    "from scenario import *\n",
    "\n",
    "myScenario = scenario(name='NESL_Simple_Scenario')"
   ]
  },
  {
   "cell_type": "markdown",
   "metadata": {},
   "source": [
    "## 1. Airsim virtual sensor\n",
    "We need two files: \n",
    "- Runfile in windows machine which points to the precompiled environment. **This is part of the testbed definition.** Every precomplied environment has a name and the path to run the environment. \n",
    "- Drone controller file of the drone which defines the virtual trajectory. Drone controller file will be run on Airsim machine by heliot to transfer the data (images)"
   ]
  },
  {
   "cell_type": "code",
   "execution_count": 3,
   "metadata": {},
   "outputs": [
    {
     "name": "stdout",
     "output_type": "stream",
     "text": [
      "Adding airsimSensor  Surveillance_drone  to scenario\n"
     ]
    }
   ],
   "source": [
    "virtual_drone_node = airsimSensor(type='_drone', id = 'Surveillance_drone')\n",
    "virtual_drone_node.add_attribute('_controller','file_path')\n",
    "\n",
    "myScenario.add_airsimSensor(virtual_drone_node)"
   ]
  },
  {
   "cell_type": "markdown",
   "metadata": {},
   "source": [
    "## 2. Defining Nodes\n",
    "- Nodes have a type. A special type of **edge**,**server** and **container** exist which leave it to heliot to map this to the devices from the testbed."
   ]
  },
  {
   "cell_type": "markdown",
   "metadata": {},
   "source": [
    "### Nvidia Tx2 node"
   ]
  },
  {
   "cell_type": "code",
   "execution_count": 4,
   "metadata": {},
   "outputs": [
    {
     "name": "stdout",
     "output_type": "stream",
     "text": [
      "Adding node  Tx2_image_classifier  to scenario\n"
     ]
    }
   ],
   "source": [
    "tx2_node = node(type='_nvidia_jetson_tx2', id = 'Tx2_image_classifier')\n",
    "\n",
    "myScenario.add_node(tx2_node)"
   ]
  },
  {
   "cell_type": "markdown",
   "metadata": {},
   "source": [
    "### Google vision kit node"
   ]
  },
  {
   "cell_type": "code",
   "execution_count": 5,
   "metadata": {},
   "outputs": [
    {
     "name": "stdout",
     "output_type": "stream",
     "text": [
      "Adding node  image_sensor_1  to scenario\n"
     ]
    }
   ],
   "source": [
    "gvt_node = node(type='_google_vision_kit', id = 'image_sensor_1')\n",
    "\n",
    "myScenario.add_node(gvt_node)"
   ]
  },
  {
   "cell_type": "markdown",
   "metadata": {},
   "source": [
    "## 3. Defining Virtual Infrastructure Nodes\n",
    "- These are used to connect the nodes, virtual sensors and define network characteristics"
   ]
  },
  {
   "cell_type": "code",
   "execution_count": 6,
   "metadata": {},
   "outputs": [
    {
     "name": "stdout",
     "output_type": "stream",
     "text": [
      "Adding infranode  virtual_switch_0  to scenario\n"
     ]
    }
   ],
   "source": [
    "virtual_switch = infranode(type='_switch', id='virtual_switch_0')\n",
    "\n",
    "myScenario.add_infranode(virtual_switch)"
   ]
  },
  {
   "cell_type": "markdown",
   "metadata": {},
   "source": [
    "## 4.  Define links between nodes/virtual sensors and infranodes"
   ]
  },
  {
   "cell_type": "code",
   "execution_count": 7,
   "metadata": {},
   "outputs": [],
   "source": [
    "link_tx2_vswitch= mininetLink(name='link_tx2_vswitch', id_1='Tx2_image_classifier',id_2='virtual_switch_0')\n",
    "link_tx2_vswitch.add_attribute('_latency', '2') #latency in milli seconds\n",
    "\n",
    "link_gvk_vswitch= mininetLink(name='link_gvk_vswitch',id_1='image_sensor_1',id_2='virtual_switch_0')\n",
    "link_gvk_vswitch.add_attribute('_latency', '2') #latency in milli seconds\n",
    "\n",
    "link_drone_vswitch= mininetLink(name='link_drone_vswitch', id_1='Surveillance_drone',id_2='virtual_switch_0')\n",
    "link_drone_vswitch.add_attribute('_latency', '2') #latency in milli seconds"
   ]
  },
  {
   "cell_type": "markdown",
   "metadata": {},
   "source": [
    "### Add links to scenario"
   ]
  },
  {
   "cell_type": "code",
   "execution_count": 8,
   "metadata": {},
   "outputs": [
    {
     "name": "stdout",
     "output_type": "stream",
     "text": [
      "Adding mininetLink  link_tx2_vswitch  to scenario\n",
      "Adding mininetLink  link_gvk_vswitch  to scenario\n",
      "Adding mininetLink  link_drone_vswitch  to scenario\n"
     ]
    }
   ],
   "source": [
    "myScenario.add_mininetLink(link_tx2_vswitch)\n",
    "myScenario.add_mininetLink(link_gvk_vswitch)\n",
    "myScenario.add_mininetLink(link_drone_vswitch)"
   ]
  },
  {
   "cell_type": "markdown",
   "metadata": {},
   "source": [
    "# 4. Define Tasks\n",
    "\n",
    "- _nodeid is where this task will be mapped.\n",
    "- In this initial version, we are providing the ids of the task.\n",
    "- Later we will used the core algorithms to assign mappings"
   ]
  },
  {
   "cell_type": "code",
   "execution_count": 9,
   "metadata": {},
   "outputs": [],
   "source": [
    "task_gvt_camera = taskHeliot(_taskid='task_gvt_camera',_filename='Code_to_run_task',_nodeid='image_sensor_1')\n",
    "task_airsim_camera = taskHeliot(_taskid='task_airsim_camera',_filename='Code_to_run_task',_nodeid='Surveillance_drone')\n",
    "task_object_inference = taskHeliot(_taskid='task_object_inference',_filename='Code_to_run_task',_nodeid='Tx2_image_classifier')"
   ]
  },
  {
   "cell_type": "markdown",
   "metadata": {},
   "source": [
    "# 5. Define Dataflow between Tasks \n",
    "- Multiple outputs can be taken from the tasks.\n",
    "- These outputs are used to wire the dataflow as tasks."
   ]
  },
  {
   "cell_type": "code",
   "execution_count": 10,
   "metadata": {},
   "outputs": [
    {
     "name": "stdout",
     "output_type": "stream",
     "text": [
      "gvt_image_data : is set as output for task:  task_gvt_camera\n",
      "drone_image_data : is set as output for task:  task_airsim_camera\n",
      "gvt_image_data : is set as input for task: task_object_inference\n",
      "drone_image_data : is set as input for task: task_object_inference\n"
     ]
    }
   ],
   "source": [
    "gvt_image_data = task_gvt_camera.get_output(\"gvt_image_data\") \n",
    "drone_image_data = task_airsim_camera.get_output(\"drone_image_data\")\n",
    "\n",
    "task_object_inference.set_input([gvt_image_data,drone_image_data])  #It can take list of output objects\n"
   ]
  },
  {
   "cell_type": "markdown",
   "metadata": {},
   "source": [
    "# 7. Define Node mappings. (Node to device mappings)"
   ]
  },
  {
   "cell_type": "code",
   "execution_count": 12,
   "metadata": {},
   "outputs": [],
   "source": [
    "# Already done.\n",
    "# for example in this case\n",
    "# tx2_node = node(type='_nvidia_jetson_tx2', id = 'Tx2_image_classifier')\n",
    "# _nvidia_jetson_tx2 is same as device id in the testbed"
   ]
  },
  {
   "cell_type": "markdown",
   "metadata": {},
   "source": [
    "# 8. Define Task mapping. (Task to Node mappings)"
   ]
  },
  {
   "cell_type": "code",
   "execution_count": 13,
   "metadata": {},
   "outputs": [],
   "source": [
    "# Already done.\n",
    "# for example in this case\n",
    "# task_gvt_camera = taskHeliot(..,_nodeid='image_sensor_1')\n",
    "# image_sensor_1 is same as node id in the scenario"
   ]
  },
  {
   "cell_type": "code",
   "execution_count": null,
   "metadata": {},
   "outputs": [],
   "source": []
  }
 ],
 "metadata": {
  "kernelspec": {
   "display_name": "Python 3",
   "language": "python",
   "name": "python3"
  },
  "language_info": {
   "codemirror_mode": {
    "name": "ipython",
    "version": 3
   },
   "file_extension": ".py",
   "mimetype": "text/x-python",
   "name": "python",
   "nbconvert_exporter": "python",
   "pygments_lexer": "ipython3",
   "version": "3.5.2"
  }
 },
 "nbformat": 4,
 "nbformat_minor": 2
}
