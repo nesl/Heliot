{
 "cells": [
  {
   "cell_type": "markdown",
   "metadata": {},
   "source": [
    "# Testing the scenario.py: Node, virtual sensors, tasks and mappings"
   ]
  },
  {
   "cell_type": "code",
   "execution_count": 1,
   "metadata": {},
   "outputs": [],
   "source": [
    "import sys\n",
    "sys.path.append('../')"
   ]
  },
  {
   "cell_type": "markdown",
   "metadata": {},
   "source": [
    "## 1. Define Airsim virtual sensors, nodes and infranodes\n",
    "## 2. Define connectivity"
   ]
  },
  {
   "cell_type": "markdown",
   "metadata": {},
   "source": [
    "### Importing heliot scenario definition file"
   ]
  },
  {
   "cell_type": "code",
   "execution_count": 2,
   "metadata": {},
   "outputs": [],
   "source": [
    "from scenario import *\n",
    "\n",
    "myScenario = scenario(name='NESL_Simple_Scenario')"
   ]
  },
  {
   "cell_type": "markdown",
   "metadata": {},
   "source": [
    "## Airsim virtual sensor\n",
    "We need two files: \n",
    "- Runfile in windows machine which points to the precompiled environment. **This is part of the testbed definition.** Every precomplied environment has a name and the path to run the environment. \n",
    "- Drone controller file of the drone which defines the virtual trajectory. Drone controller file will be run on Airsim machine by heliot to transfer the data (images)"
   ]
  },
  {
   "cell_type": "code",
   "execution_count": 3,
   "metadata": {},
   "outputs": [
    {
     "name": "stdout",
     "output_type": "stream",
     "text": [
      "Adding airsimSensor  Surveillance_drone  to scenario\n"
     ]
    }
   ],
   "source": [
    "virtual_drone = airsimSensor(type='_drone', id = 'Surveillance_drone')\n",
    "virtual_drone.add_attribute('_controller','file_path')\n",
    "\n",
    "myScenario.add_airsimSensor(virtual_drone)"
   ]
  },
  {
   "cell_type": "markdown",
   "metadata": {},
   "source": [
    "# Defining Nodes\n",
    "- Nodes have a type. A special type of **edge**,**server** and **container** exist which leave it to heliot to map this to the devices from the testbed."
   ]
  },
  {
   "cell_type": "markdown",
   "metadata": {},
   "source": [
    "### Nvidia Tx2 node"
   ]
  },
  {
   "cell_type": "code",
   "execution_count": 4,
   "metadata": {},
   "outputs": [
    {
     "name": "stdout",
     "output_type": "stream",
     "text": [
      "Adding node  Tx2_image_classifier  to scenario\n"
     ]
    }
   ],
   "source": [
    "tx2_node = node(type='_nvidia_jetson_tx2', id = 'Tx2_image_classifier')\n",
    "\n",
    "myScenario.add_node(tx2_node)"
   ]
  },
  {
   "cell_type": "markdown",
   "metadata": {},
   "source": [
    "### Google vision kit node"
   ]
  },
  {
   "cell_type": "code",
   "execution_count": 5,
   "metadata": {},
   "outputs": [
    {
     "name": "stdout",
     "output_type": "stream",
     "text": [
      "Adding node  image_sensor_1  to scenario\n"
     ]
    }
   ],
   "source": [
    "gvt_node = node(type='_google_vision_kit', id = 'image_sensor_1')\n",
    "\n",
    "myScenario.add_node(gvt_node)"
   ]
  },
  {
   "cell_type": "markdown",
   "metadata": {},
   "source": [
    "# Defining Virtual Infrastructure Nodes\n",
    "- These are used to connect the nodes, virtual sensors and define network characteristics"
   ]
  },
  {
   "cell_type": "code",
   "execution_count": 7,
   "metadata": {},
   "outputs": [
    {
     "name": "stdout",
     "output_type": "stream",
     "text": [
      "Adding infranode  virtual_switch_0  to scenario\n"
     ]
    }
   ],
   "source": [
    "virtual_switch = infranode(type='_switch', id='virtual_switch_0')\n",
    "\n",
    "myScenario.add_infranode(virtual_switch)"
   ]
  },
  {
   "cell_type": "markdown",
   "metadata": {},
   "source": [
    "# Connectivity"
   ]
  },
  {
   "cell_type": "code",
   "execution_count": null,
   "metadata": {},
   "outputs": [],
   "source": []
  }
 ],
 "metadata": {
  "kernelspec": {
   "display_name": "Python 3",
   "language": "python",
   "name": "python3"
  },
  "language_info": {
   "codemirror_mode": {
    "name": "ipython",
    "version": 3
   },
   "file_extension": ".py",
   "mimetype": "text/x-python",
   "name": "python",
   "nbconvert_exporter": "python",
   "pygments_lexer": "ipython3",
   "version": "3.5.2"
  }
 },
 "nbformat": 4,
 "nbformat_minor": 2
}
