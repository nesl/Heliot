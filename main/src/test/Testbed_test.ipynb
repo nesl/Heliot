{
 "cells": [
  {
   "cell_type": "markdown",
   "metadata": {},
   "source": [
    "## Testing the testbed.py file functionality and physical device addition"
   ]
  },
  {
   "cell_type": "code",
   "execution_count": 1,
   "metadata": {},
   "outputs": [],
   "source": [
    "import sys\n",
    "sys.path.append('../')"
   ]
  },
  {
   "cell_type": "markdown",
   "metadata": {},
   "source": [
    "### Importing Heliot testbed capabilities"
   ]
  },
  {
   "cell_type": "code",
   "execution_count": 2,
   "metadata": {},
   "outputs": [],
   "source": [
    "from testbed import *"
   ]
  },
  {
   "cell_type": "markdown",
   "metadata": {},
   "source": [
    "### We need to define devices\n",
    "- Devices have type, compute, memory, connection, sensor and os definitions"
   ]
  },
  {
   "cell_type": "code",
   "execution_count": 3,
   "metadata": {},
   "outputs": [],
   "source": [
    "def get_connection(ip, username, password):\n",
    "    con = connection('ssh')\n",
    "    con.add_attribute('ip',ip)\n",
    "    con.add_attribute('username',username)\n",
    "    con.add_attribute('password',password)\n",
    "    return con\n",
    "\n",
    "def get_memory(size):\n",
    "    m = memory('ram')\n",
    "    m.add_attribute('size',size)\n",
    "    return m"
   ]
  },
  {
   "cell_type": "markdown",
   "metadata": {},
   "source": [
    "### Defining mininet server"
   ]
  },
  {
   "cell_type": "code",
   "execution_count": 4,
   "metadata": {},
   "outputs": [],
   "source": [
    "mininet_server = device('mininet_server')\n",
    "mininet_server.add_compute(compute('cpu')) # Just adding CPU without specifying number of cores\n",
    "mininet_server.add_memory(get_memory(3.2e10)) # 32 GB RAM\n",
    "mininet_server.add_os(os('ubuntu'))\n",
    "\n",
    "## Adding connection details\n",
    "con = get_connection('172.17.49.60','root', 'pwd')\n",
    "mininet_server.add_connection(con)"
   ]
  },
  {
   "cell_type": "code",
   "execution_count": null,
   "metadata": {},
   "outputs": [],
   "source": []
  },
  {
   "cell_type": "code",
   "execution_count": null,
   "metadata": {},
   "outputs": [],
   "source": []
  }
 ],
 "metadata": {
  "kernelspec": {
   "display_name": "Python 3",
   "language": "python",
   "name": "python3"
  },
  "language_info": {
   "codemirror_mode": {
    "name": "ipython",
    "version": 3
   },
   "file_extension": ".py",
   "mimetype": "text/x-python",
   "name": "python",
   "nbconvert_exporter": "python",
   "pygments_lexer": "ipython3",
   "version": "3.5.2"
  }
 },
 "nbformat": 4,
 "nbformat_minor": 2
}
