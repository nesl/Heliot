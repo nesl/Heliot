{
 "cells": [
  {
   "cell_type": "markdown",
   "metadata": {},
   "source": [
    "## Testing the testbed.py file functionality and physical device addition"
   ]
  },
  {
   "cell_type": "code",
   "execution_count": 4,
   "metadata": {},
   "outputs": [],
   "source": [
    "import sys\n",
    "sys.path.append('../')"
   ]
  },
  {
   "cell_type": "code",
   "execution_count": 5,
   "metadata": {},
   "outputs": [
    {
     "data": {
      "text/plain": [
       "'/usr/bin/python3'"
      ]
     },
     "execution_count": 5,
     "metadata": {},
     "output_type": "execute_result"
    }
   ],
   "source": [
    "sys.executable"
   ]
  },
  {
   "cell_type": "markdown",
   "metadata": {},
   "source": [
    "### Importing Heliot testbed capabilities"
   ]
  },
  {
   "cell_type": "code",
   "execution_count": 6,
   "metadata": {},
   "outputs": [
    {
     "ename": "ImportError",
     "evalue": "No module named 'utils.ping'",
     "output_type": "error",
     "traceback": [
      "\u001b[0;31m---------------------------------------------------------------------------\u001b[0m",
      "\u001b[0;31mImportError\u001b[0m                               Traceback (most recent call last)",
      "\u001b[0;32m<ipython-input-6-dd06a9c41fa5>\u001b[0m in \u001b[0;36m<module>\u001b[0;34m\u001b[0m\n\u001b[0;32m----> 1\u001b[0;31m \u001b[0;32mfrom\u001b[0m \u001b[0mtestbed\u001b[0m \u001b[0;32mimport\u001b[0m \u001b[0;34m*\u001b[0m\u001b[0;34m\u001b[0m\u001b[0m\n\u001b[0m",
      "\u001b[0;32m~/Heliot/github/Heliot/main/src/testbed.py\u001b[0m in \u001b[0;36m<module>\u001b[0;34m\u001b[0m\n\u001b[1;32m     20\u001b[0m \u001b[0;31m#Heliot imports\u001b[0m\u001b[0;34m\u001b[0m\u001b[0;34m\u001b[0m\u001b[0m\n\u001b[1;32m     21\u001b[0m \u001b[0;32mfrom\u001b[0m \u001b[0mcore\u001b[0m\u001b[0;34m.\u001b[0m\u001b[0mdevice\u001b[0m \u001b[0;32mimport\u001b[0m \u001b[0;34m*\u001b[0m\u001b[0;34m\u001b[0m\u001b[0m\n\u001b[0;32m---> 22\u001b[0;31m \u001b[0;32mfrom\u001b[0m \u001b[0mutils\u001b[0m\u001b[0;34m.\u001b[0m\u001b[0mping\u001b[0m \u001b[0;32mimport\u001b[0m \u001b[0;34m*\u001b[0m\u001b[0;34m\u001b[0m\u001b[0m\n\u001b[0m\u001b[1;32m     23\u001b[0m \u001b[0;32mfrom\u001b[0m \u001b[0mutils\u001b[0m\u001b[0;34m.\u001b[0m\u001b[0mssh\u001b[0m \u001b[0;32mimport\u001b[0m \u001b[0;34m*\u001b[0m\u001b[0;34m\u001b[0m\u001b[0m\n\u001b[1;32m     24\u001b[0m \u001b[0;34m\u001b[0m\u001b[0m\n",
      "\u001b[0;31mImportError\u001b[0m: No module named 'utils.ping'"
     ]
    }
   ],
   "source": [
    "from testbed import *"
   ]
  },
  {
   "cell_type": "markdown",
   "metadata": {},
   "source": [
    "# We need to define devices\n",
    "- Devices have type, compute, memory, connection, sensor and os definitions"
   ]
  },
  {
   "cell_type": "code",
   "execution_count": null,
   "metadata": {},
   "outputs": [],
   "source": [
    "def get_connection(ip='', username='', password=''):\n",
    "    con = connection('_ssh')\n",
    "    con.add_attribute('_ip',ip)\n",
    "    con.add_attribute('_username',username)\n",
    "    con.add_attribute('_password',password)\n",
    "    return con\n",
    "\n",
    "def get_memory(size):\n",
    "    m = memory('ram')\n",
    "    m.add_attribute('size',size)\n",
    "    return m\n",
    "\n",
    "mem_32GB = get_memory(3.2e10) # 32 GB RAM\n",
    "cpu_compute =  compute('cpu')# Just adding CPU without specifying number of cores"
   ]
  },
  {
   "cell_type": "markdown",
   "metadata": {},
   "source": [
    "### Defining mininet server"
   ]
  },
  {
   "cell_type": "code",
   "execution_count": null,
   "metadata": {},
   "outputs": [],
   "source": [
    "mininet_server = device(id='device_mininet',type='_mininet_server')\n",
    "mininet_server.add_compute(cpu_compute) \n",
    "mininet_server.add_memory(mem_32GB) \n",
    "mininet_server.add_os(osHeliot('_ubuntu'))\n",
    "mininet_server.add_connection(get_connection('172.17.15.21','xx', 'xx'))"
   ]
  },
  {
   "cell_type": "markdown",
   "metadata": {},
   "source": [
    "### Defining AirSim server\n",
    "## We also need to define software for Airsim to specify the airsim precomplied binaries available"
   ]
  },
  {
   "cell_type": "code",
   "execution_count": null,
   "metadata": {},
   "outputs": [],
   "source": [
    "airsim_server = device(id='device_airsim',type='_airsim_server')\n",
    "airsim_server.add_compute(cpu_compute) \n",
    "airsim_server.add_memory(mem_32GB) \n",
    "airsim_server.add_os(osHeliot('_windows'))\n",
    "airsim_server.add_connection(get_connection('172.17.49.168','xx', 'xx'))"
   ]
  },
  {
   "cell_type": "markdown",
   "metadata": {},
   "source": [
    "### Defining Jetson Tx-2\n",
    "- We only add type and connection attributes.\n",
    "- Other attributes are known by default from predefined configuration. Attributes can be overridden if needed"
   ]
  },
  {
   "cell_type": "code",
   "execution_count": null,
   "metadata": {},
   "outputs": [],
   "source": [
    "nvidia_jetson_tx2 = device(id='device_tx2',type='_nvidia_jetson_tx2')\n",
    "nvidia_jetson_tx2.add_os(osHeliot('_ubuntu'))\n",
    "nvidia_jetson_tx2.add_connection(get_connection('172.17.49.60','xx', 'xx'))"
   ]
  },
  {
   "cell_type": "markdown",
   "metadata": {},
   "source": [
    "### Defining Google vision kit\n",
    "- We only add type and connection attributes.\n",
    "- Other attributes are known by default from predefined configuration. Attributes can be overridden if needed"
   ]
  },
  {
   "cell_type": "code",
   "execution_count": null,
   "metadata": {},
   "outputs": [],
   "source": [
    "google_vision_kit = device(id='device_gvk',type='_google_vision_kit')\n",
    "google_vision_kit.add_connection(get_connection('172.17.15.21','root', 'pwd'))"
   ]
  },
  {
   "cell_type": "markdown",
   "metadata": {},
   "source": [
    "### Defining Android Smartphone"
   ]
  },
  {
   "cell_type": "code",
   "execution_count": null,
   "metadata": {},
   "outputs": [],
   "source": [
    "android_smartphone = device(id='device_phone',type='_smartphone')\n",
    "android_smartphone.add_os(osHeliot('android'))\n",
    "## Require a special kind of REST API connection.\n",
    "\n",
    "\n",
    "## Will deal this later\n",
    "android_smartphone.add_connection(get_connection('172.17.15.21','root', 'pwd'))"
   ]
  },
  {
   "cell_type": "markdown",
   "metadata": {},
   "source": [
    "# Defining Testbed now"
   ]
  },
  {
   "cell_type": "code",
   "execution_count": null,
   "metadata": {},
   "outputs": [],
   "source": [
    "my_testbed = testbed(name='my_demo_testbed')# Takes any user defined name as input, can be left empty\n",
    "\n",
    "# Adding devices\n",
    "my_testbed.add_device(mininet_server)\n",
    "#my_testbed.add_device(airsim_server)\n",
    "#my_testbed.add_device(nvidia_jetson_tx2)\n",
    "#my_testbed.add_device(google_vision_kit)\n",
    "#my_testbed.add_device(android_smartphone)"
   ]
  },
  {
   "cell_type": "markdown",
   "metadata": {},
   "source": [
    "# Validating all devices in testbed.\n",
    "- At present we are only testing the reachability of devices in the testbed.\n",
    "- In future, we can verify the OS types, Compute(CPU cores,..) RAM etc."
   ]
  },
  {
   "cell_type": "code",
   "execution_count": null,
   "metadata": {
    "scrolled": true
   },
   "outputs": [],
   "source": [
    "my_testbed.validate()"
   ]
  },
  {
   "cell_type": "code",
   "execution_count": null,
   "metadata": {},
   "outputs": [],
   "source": []
  },
  {
   "cell_type": "code",
   "execution_count": null,
   "metadata": {},
   "outputs": [],
   "source": []
  },
  {
   "cell_type": "code",
   "execution_count": null,
   "metadata": {},
   "outputs": [],
   "source": []
  }
 ],
 "metadata": {
  "kernelspec": {
   "display_name": "Python 3",
   "language": "python",
   "name": "python3"
  },
  "language_info": {
   "codemirror_mode": {
    "name": "ipython",
    "version": 3
   },
   "file_extension": ".py",
   "mimetype": "text/x-python",
   "name": "python",
   "nbconvert_exporter": "python",
   "pygments_lexer": "ipython3",
   "version": "3.5.2"
  }
 },
 "nbformat": 4,
 "nbformat_minor": 2
}
