{
 "cells": [
  {
   "cell_type": "markdown",
   "metadata": {},
   "source": [
    "## Testing the testbed.py file functionality and physical device addition"
   ]
  },
  {
   "cell_type": "code",
   "execution_count": 1,
   "metadata": {},
   "outputs": [],
   "source": [
    "import sys\n",
    "sys.path.append('../')"
   ]
  },
  {
   "cell_type": "markdown",
   "metadata": {},
   "source": [
    "### Importing Heliot testbed capabilities"
   ]
  },
  {
   "cell_type": "code",
   "execution_count": 2,
   "metadata": {},
   "outputs": [],
   "source": [
    "from testbed import *"
   ]
  },
  {
   "cell_type": "markdown",
   "metadata": {},
   "source": [
    "# We need to define devices\n",
    "- Devices have type, compute, memory, connection, sensor and os definitions"
   ]
  },
  {
   "cell_type": "code",
   "execution_count": 3,
   "metadata": {},
   "outputs": [],
   "source": [
    "def get_connection(ip='', username='', password=''):\n",
    "    con = connection('_ssh')\n",
    "    con.add_attribute('_ip',ip)\n",
    "    con.add_attribute('_username',username)\n",
    "    con.add_attribute('_password',password)\n",
    "    return con\n",
    "\n",
    "def get_memory(size):\n",
    "    m = memory('ram')\n",
    "    m.add_attribute('size',size)\n",
    "    return m\n",
    "\n",
    "mem_32GB = get_memory(3.2e10) # 32 GB RAM\n",
    "cpu_compute =  compute('cpu')# Just adding CPU without specifying number of cores"
   ]
  },
  {
   "cell_type": "markdown",
   "metadata": {},
   "source": [
    "### Defining mininet server"
   ]
  },
  {
   "cell_type": "code",
   "execution_count": 4,
   "metadata": {},
   "outputs": [],
   "source": [
    "mininet_server = device(id='device_mininet',type='_mininet_server')\n",
    "mininet_server.add_compute(cpu_compute) \n",
    "mininet_server.add_memory(mem_32GB) \n",
    "mininet_server.add_os(os('_ubuntu'))\n",
    "mininet_server.add_connection(get_connection('172.17.15.21','xx', 'xx'))"
   ]
  },
  {
   "cell_type": "markdown",
   "metadata": {},
   "source": [
    "### Defining AirSim server"
   ]
  },
  {
   "cell_type": "code",
   "execution_count": 5,
   "metadata": {},
   "outputs": [],
   "source": [
    "airsim_server = device(id='device_airsim',type='_airsim_server')\n",
    "airsim_server.add_compute(cpu_compute) \n",
    "airsim_server.add_memory(mem_32GB) \n",
    "airsim_server.add_os(os('_windows'))\n",
    "airsim_server.add_connection(get_connection('172.17.49.168','xx', 'xx'))"
   ]
  },
  {
   "cell_type": "markdown",
   "metadata": {},
   "source": [
    "### Defining Jetson Tx-2\n",
    "- We only add type and connection attributes.\n",
    "- Other attributes are known by default from predefined configuration. Attributes can be overridden if needed"
   ]
  },
  {
   "cell_type": "code",
   "execution_count": 6,
   "metadata": {},
   "outputs": [],
   "source": [
    "nvidia_jetson_tx2 = device(id='device_tx2',type='_nvidia_jetson_tx2')\n",
    "nvidia_jetson_tx2.add_connection(get_connection('172.17.15.21','root', 'pwd'))"
   ]
  },
  {
   "cell_type": "markdown",
   "metadata": {},
   "source": [
    "### Defining Google vision kit\n",
    "- We only add type and connection attributes.\n",
    "- Other attributes are known by default from predefined configuration. Attributes can be overridden if needed"
   ]
  },
  {
   "cell_type": "code",
   "execution_count": 7,
   "metadata": {},
   "outputs": [],
   "source": [
    "google_vision_kit = device(id='device_gvk',type='_google_vision_kit')\n",
    "google_vision_kit.add_connection(get_connection('172.17.15.21','root', 'pwd'))"
   ]
  },
  {
   "cell_type": "markdown",
   "metadata": {},
   "source": [
    "### Defining Android Smartphone"
   ]
  },
  {
   "cell_type": "code",
   "execution_count": 8,
   "metadata": {},
   "outputs": [],
   "source": [
    "android_smartphone = device(id='device_phone',type='_smartphone')\n",
    "android_smartphone.add_os(os('android'))\n",
    "## Require a special kind of REST API connection.\n",
    "\n",
    "\n",
    "## Will deal this later\n",
    "android_smartphone.add_connection(get_connection('172.17.15.21','root', 'pwd'))"
   ]
  },
  {
   "cell_type": "markdown",
   "metadata": {},
   "source": [
    "# Defining Testbed now"
   ]
  },
  {
   "cell_type": "code",
   "execution_count": 9,
   "metadata": {},
   "outputs": [
    {
     "name": "stdout",
     "output_type": "stream",
     "text": [
      "Adding device  device_mininet  to testbed\n",
      "Adding device  device_airsim  to testbed\n"
     ]
    }
   ],
   "source": [
    "my_testbed = testbed(name='my_demo_testbed')# Takes any user defined name as input, can be left empty\n",
    "\n",
    "# Adding devices\n",
    "my_testbed.add_device(mininet_server)\n",
    "my_testbed.add_device(airsim_server)\n",
    "#my_testbed.add_device(nvidia_jetson_tx2)\n",
    "#my_testbed.add_device(google_vision_kit)\n",
    "#my_testbed.add_device(android_smartphone)"
   ]
  },
  {
   "cell_type": "markdown",
   "metadata": {},
   "source": [
    "# Validating all devices in testbed.\n",
    "- At present we are only testing the reachability of devices in the testbed.\n",
    "- In future, we can verify the OS types, Compute(CPU cores,..) RAM etc."
   ]
  },
  {
   "cell_type": "code",
   "execution_count": 10,
   "metadata": {
    "scrolled": true
   },
   "outputs": [
    {
     "name": "stderr",
     "output_type": "stream",
     "text": [
      "2018-12-31 19:10:30,949 - testbed - INFO - Validating the devices in Testbed\n",
      "2018-12-31 19:10:33,011 - testbed - INFO - device_mininet is connected\n",
      "2018-12-31 19:10:33,458 - testbed - INFO - heliot_runtime directory created\n",
      "2018-12-31 19:10:35,046 - testbed - INFO - Heliot repo downloaded from Github\n",
      "2018-12-31 19:10:35,344 - testbed - INFO - heliot initalization done for device_mininet\n",
      "2018-12-31 19:10:37,395 - testbed - INFO - device_airsim is connected\n",
      "2018-12-31 19:10:37,397 - testbed - INFO - heliot initalization done for device_airsim\n",
      "2018-12-31 19:10:37,398 - testbed - INFO - Testbed validated\n"
     ]
    }
   ],
   "source": [
    "my_testbed.validate()"
   ]
  },
  {
   "cell_type": "code",
   "execution_count": null,
   "metadata": {},
   "outputs": [],
   "source": []
  },
  {
   "cell_type": "code",
   "execution_count": null,
   "metadata": {},
   "outputs": [],
   "source": []
  },
  {
   "cell_type": "code",
   "execution_count": null,
   "metadata": {},
   "outputs": [],
   "source": []
  }
 ],
 "metadata": {
  "kernelspec": {
   "display_name": "Python 3",
   "language": "python",
   "name": "python3"
  },
  "language_info": {
   "codemirror_mode": {
    "name": "ipython",
    "version": 3
   },
   "file_extension": ".py",
   "mimetype": "text/x-python",
   "name": "python",
   "nbconvert_exporter": "python",
   "pygments_lexer": "ipython3",
   "version": "3.5.2"
  }
 },
 "nbformat": 4,
 "nbformat_minor": 2
}
