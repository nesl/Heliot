{
 "cells": [
  {
   "cell_type": "markdown",
   "metadata": {},
   "source": [
    "## Testing the testbed.py file functionality and physical device addition"
   ]
  },
  {
   "cell_type": "code",
   "execution_count": 1,
   "metadata": {},
   "outputs": [],
   "source": [
    "import sys\n",
    "sys.path.append('../')"
   ]
  },
  {
   "cell_type": "markdown",
   "metadata": {},
   "source": [
    "### Importing Heliot testbed capabilities"
   ]
  },
  {
   "cell_type": "code",
   "execution_count": 2,
   "metadata": {},
   "outputs": [],
   "source": [
    "from testbed import *"
   ]
  },
  {
   "cell_type": "markdown",
   "metadata": {},
   "source": [
    "# We need to define devices\n",
    "- Devices have type, compute, memory, connection, sensor and os definitions"
   ]
  },
  {
   "cell_type": "code",
   "execution_count": 3,
   "metadata": {},
   "outputs": [],
   "source": [
    "def get_connection(ip, username, password):\n",
    "    con = connection('ssh')\n",
    "    con.add_attribute('ip',ip)\n",
    "    con.add_attribute('username',username)\n",
    "    con.add_attribute('password',password)\n",
    "    return con\n",
    "\n",
    "def get_memory(size):\n",
    "    m = memory('ram')\n",
    "    m.add_attribute('size',size)\n",
    "    return m\n",
    "\n",
    "mem_32GB = get_memory(3.2e10) # 32 GB RAM\n",
    "cpu_compute =  compute('cpu')# Just adding CPU without specifying number of cores"
   ]
  },
  {
   "cell_type": "markdown",
   "metadata": {},
   "source": [
    "### Defining mininet server"
   ]
  },
  {
   "cell_type": "code",
   "execution_count": 4,
   "metadata": {},
   "outputs": [],
   "source": [
    "mininet_server = device('mininet_server')\n",
    "mininet_server.add_compute(cpu_compute) \n",
    "mininet_server.add_memory(mem_32GB) \n",
    "mininet_server.add_os(os('ubuntu'))\n",
    "mininet_server.add_connection(get_connection('172.17.49.60','root', 'pwd'))"
   ]
  },
  {
   "cell_type": "markdown",
   "metadata": {},
   "source": [
    "### Defining AirSim server"
   ]
  },
  {
   "cell_type": "code",
   "execution_count": 5,
   "metadata": {},
   "outputs": [],
   "source": [
    "airsim_server = device('airsim_server')\n",
    "airsim_server.add_compute(cpu_compute) \n",
    "airsim_server.add_memory(mem_32GB) \n",
    "airsim_server.add_os(os('windows'))\n",
    "airsim_server.add_connection(get_connection('172.17.49.61','root', 'pwd'))"
   ]
  },
  {
   "cell_type": "markdown",
   "metadata": {},
   "source": [
    "### Defining Jetson Tx-2\n",
    "- We only add type and connection attributes.\n",
    "- Other attributes are known by default from predefined configuration. Attributes can be overridden if needed"
   ]
  },
  {
   "cell_type": "code",
   "execution_count": 6,
   "metadata": {},
   "outputs": [],
   "source": [
    "nvidia_jetson_tx2 = device('nvidia_jetson_tx2')\n",
    "nvidia_jetson_tx2.add_connection(get_connection('172.17.49.62','root', 'pwd'))"
   ]
  },
  {
   "cell_type": "markdown",
   "metadata": {},
   "source": [
    "### Defining Google vision kit\n",
    "- We only add type and connection attributes.\n",
    "- Other attributes are known by default from predefined configuration. Attributes can be overridden if needed"
   ]
  },
  {
   "cell_type": "code",
   "execution_count": 7,
   "metadata": {},
   "outputs": [],
   "source": [
    "google_vision_kit = device('google_vision_kit')\n",
    "google_vision_kit.add_connection(get_connection('172.17.49.62','root', 'pwd'))"
   ]
  },
  {
   "cell_type": "markdown",
   "metadata": {},
   "source": [
    "### Defining Android Smartphone"
   ]
  },
  {
   "cell_type": "code",
   "execution_count": 8,
   "metadata": {},
   "outputs": [],
   "source": [
    "android_smartphone = device('smartphone')\n",
    "android_smartphone.add_os(os('android'))\n",
    "## Require a special kind of REST API connection.\n",
    "## Will deal this later\n",
    "##android_smartphone.add_connection(get_connection('172.17.49.62','root', 'pwd'))"
   ]
  },
  {
   "cell_type": "markdown",
   "metadata": {},
   "source": [
    "# Defining Testbed now"
   ]
  },
  {
   "cell_type": "code",
   "execution_count": 9,
   "metadata": {},
   "outputs": [],
   "source": [
    "my_testbed = testbed('my_demo_testbed')# Takes any user defined name as input, can be left empty\n",
    "\n",
    "# Adding devices\n",
    "my_testbed.add_device(mininet_server)\n",
    "my_testbed.add_device(airsim_server)\n",
    "my_testbed.add_device(nvidia_jetson_tx2)\n",
    "my_testbed.add_device(google_vision_kit)\n",
    "my_testbed.add_device(android_smartphone)"
   ]
  },
  {
   "cell_type": "markdown",
   "metadata": {},
   "source": [
    "# Validating all devices in testbed.\n",
    "- At present we are only testing the reachability of devices in the testbed.\n",
    "- In future, we can verify the OS types, Compute(CPU cores,..) RAM etc."
   ]
  },
  {
   "cell_type": "code",
   "execution_count": 10,
   "metadata": {},
   "outputs": [
    {
     "name": "stderr",
     "output_type": "stream",
     "text": [
      "2018-12-30 17:47:54,962 - testbed - INFO - Validating the devices in Testbed\n",
      "2018-12-30 17:47:54,964 - testbed - INFO - mininet_server device validated\n",
      "2018-12-30 17:47:54,965 - testbed - INFO - airsim_server device validated\n",
      "2018-12-30 17:47:54,966 - testbed - INFO - nvidia_jetson_tx2 device validated\n",
      "2018-12-30 17:47:54,967 - testbed - INFO - google_vision_kit device validated\n",
      "2018-12-30 17:47:54,968 - testbed - INFO - smartphone device validated\n",
      "2018-12-30 17:47:54,969 - testbed - INFO - Testbed validated\n"
     ]
    }
   ],
   "source": [
    "my_testbed.validate()"
   ]
  },
  {
   "cell_type": "code",
   "execution_count": null,
   "metadata": {},
   "outputs": [],
   "source": []
  }
 ],
 "metadata": {
  "kernelspec": {
   "display_name": "Python 3",
   "language": "python",
   "name": "python3"
  },
  "language_info": {
   "codemirror_mode": {
    "name": "ipython",
    "version": 3
   },
   "file_extension": ".py",
   "mimetype": "text/x-python",
   "name": "python",
   "nbconvert_exporter": "python",
   "pygments_lexer": "ipython3",
   "version": "3.5.2"
  }
 },
 "nbformat": 4,
 "nbformat_minor": 2
}
