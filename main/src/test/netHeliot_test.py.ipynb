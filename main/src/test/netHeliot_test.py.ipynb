{
 "cells": [
  {
   "cell_type": "markdown",
   "metadata": {},
   "source": [
    "# Testing netHeliot"
   ]
  },
  {
   "cell_type": "code",
   "execution_count": 1,
   "metadata": {},
   "outputs": [],
   "source": [
    "import sys\n",
    "sys.path.append('../')"
   ]
  },
  {
   "cell_type": "code",
   "execution_count": 2,
   "metadata": {},
   "outputs": [
    {
     "data": {
      "text/plain": [
       "'/usr/bin/python2'"
      ]
     },
     "execution_count": 2,
     "metadata": {},
     "output_type": "execute_result"
    }
   ],
   "source": [
    "sys.executable"
   ]
  },
  {
   "cell_type": "code",
   "execution_count": 6,
   "metadata": {},
   "outputs": [
    {
     "data": {
      "text/plain": [
       "0"
      ]
     },
     "execution_count": 6,
     "metadata": {},
     "output_type": "execute_result"
    }
   ],
   "source": [
    "# This should give '0' as output\n",
    "# mininet can be executed as root only\n",
    "import os\n",
    "os.getuid()"
   ]
  },
  {
   "cell_type": "code",
   "execution_count": 3,
   "metadata": {},
   "outputs": [],
   "source": [
    "from network.netHeliot import *"
   ]
  },
  {
   "cell_type": "code",
   "execution_count": 4,
   "metadata": {},
   "outputs": [
    {
     "name": "stdout",
     "output_type": "stream",
     "text": [
      "h1.IP(): 10.0.0.1\n",
      "h2.IP(): 10.0.0.2\n",
      "s1.IP(): 127.0.0.1\n",
      "PING 10.0.0.2 (10.0.0.2) 56(84) bytes of data.\r\n",
      "64 bytes from 10.0.0.2: icmp_seq=1 ttl=64 time=1.27 ms\r\n",
      "\r\n",
      "--- 10.0.0.2 ping statistics ---\r\n",
      "1 packets transmitted, 1 received, 0% packet loss, time 0ms\r\n",
      "rtt min/avg/max/mdev = 1.278/1.278/1.278/0.000 ms\r\n",
      "\n"
     ]
    }
   ],
   "source": [
    "net1 = netHeliot()\n",
    "\n",
    "net1.add_switch('s1')\n",
    "net1.add_host('h1')\n",
    "net1.add_host('h2')\n",
    "\n",
    "s1 = net1.get_switch('s1')\n",
    "h1 = net1.get_host('h1')\n",
    "h2 = net1.get_host('h2')\n",
    "\n",
    "net1.add_link(s1,h1)\n",
    "net1.add_link(s1,h2)\n",
    "\n",
    "\n",
    "net1._network.start()\n",
    "\n",
    "print \"h1.IP():\",h1.IP()\n",
    "print \"h2.IP():\",h2.IP()\n",
    "print \"s1.IP():\",s1.IP()\n",
    "\n",
    "\n",
    "print h1.cmd('ping -c1 %s' % h2.IP())\n",
    "\n",
    "net1._network.stop()"
   ]
  },
  {
   "cell_type": "code",
   "execution_count": 5,
   "metadata": {},
   "outputs": [
    {
     "data": {
      "text/plain": [
       "0"
      ]
     },
     "execution_count": 5,
     "metadata": {},
     "output_type": "execute_result"
    }
   ],
   "source": []
  },
  {
   "cell_type": "code",
   "execution_count": null,
   "metadata": {},
   "outputs": [],
   "source": []
  }
 ],
 "metadata": {
  "kernelspec": {
   "display_name": "Python 2",
   "language": "python",
   "name": "python2"
  },
  "language_info": {
   "codemirror_mode": {
    "name": "ipython",
    "version": 2
   },
   "file_extension": ".py",
   "mimetype": "text/x-python",
   "name": "python",
   "nbconvert_exporter": "python",
   "pygments_lexer": "ipython2",
   "version": "2.7.12"
  }
 },
 "nbformat": 4,
 "nbformat_minor": 2
}
