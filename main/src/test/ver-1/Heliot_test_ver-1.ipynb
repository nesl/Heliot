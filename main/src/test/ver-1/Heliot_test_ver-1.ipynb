{
 "cells": [
  {
   "cell_type": "markdown",
   "metadata": {},
   "source": [
    "# Workflow\n",
    "## 1. Define testbed\n",
    "## 2. Define Scenario\n",
    "## 3. Run Scenario on Testbed"
   ]
  },
  {
   "cell_type": "markdown",
   "metadata": {},
   "source": [
    "# 1. Define Testbed"
   ]
  },
  {
   "cell_type": "code",
   "execution_count": 1,
   "metadata": {},
   "outputs": [],
   "source": [
    "import sys\n",
    "\n",
    "sys.path.append('../../')\n",
    "\n",
    "from testbed import *\n",
    "\n",
    "def get_connection(ip='', username='', password=''):\n",
    "    con = connection('_ssh')\n",
    "    con.add_attribute('_ip',ip)\n",
    "    con.add_attribute('_username',username)\n",
    "    con.add_attribute('_password',password)\n",
    "    return con\n",
    "\n",
    "def get_testbed():\n",
    "\n",
    "    #mininet_server\n",
    "    mininet_server = device(id='device_mininet',type='_mininet_server')\n",
    "    mininet_server.add_os(osHeliot('_linux'))\n",
    "    mininet_server.add_connection(get_connection('172.17.15.21','xx', 'xx'))\n",
    "\n",
    "    #airsim_server\n",
    "    airsim_server = device(id='device_airsim',type='_airsim_server')\n",
    "    airsim_server.add_os(osHeliot('_windows'))\n",
    "    airsim_server.add_connection(get_connection('172.17.49.168','xx', 'xx'))\n",
    "\n",
    "    #Tx2\n",
    "    nvidia_jetson_tx2 = device(id='device_tx2',type='_nvidia_jetson_tx2')\n",
    "    nvidia_jetson_tx2.add_os(osHeliot('_linux'))\n",
    "    nvidia_jetson_tx2.add_connection(get_connection('172.17.49.60','xx', 'xx'))\n",
    "\n",
    "    #gvk\n",
    "    google_vision_kit = device(id='device_gvk',type='_google_vision_kit')\n",
    "    google_vision_kit.add_os(osHeliot('_linux'))\n",
    "    google_vision_kit.add_connection(get_connection('172.17.49.65','xx', 'xx'))\n",
    "    \n",
    "    #smartphone\n",
    "    android_smartphone = device(id='device_phone',type='_smartphone')\n",
    "    android_smartphone.add_os(osHeliot('_android'))\n",
    "    ## Require a special kind of REST API connection.\n",
    "    android_smartphone.add_connection(connection('_rest'))\n",
    "\n",
    "    my_testbed = testbed(name='my_demo_testbed')\n",
    "    # Takes any user defined name as input, can be left empty\n",
    "\n",
    "    # Adding devices\n",
    "    my_testbed.add_device(mininet_server)\n",
    "    #my_testbed.add_device(airsim_server)\n",
    "    #my_testbed.add_device(nvidia_jetson_tx2)\n",
    "    my_testbed.add_device(google_vision_kit)\n",
    "    #my_testbed.add_device(android_smartphone)\n",
    "\n",
    "    return my_testbed"
   ]
  },
  {
   "cell_type": "code",
   "execution_count": 2,
   "metadata": {},
   "outputs": [
    {
     "name": "stdout",
     "output_type": "stream",
     "text": [
      "Adding device  device_mininet  to testbed\n",
      "Adding device  device_gvk  to testbed\n"
     ]
    }
   ],
   "source": [
    "my_testbed = get_testbed()"
   ]
  },
  {
   "cell_type": "markdown",
   "metadata": {},
   "source": [
    "## Validating the testbed"
   ]
  },
  {
   "cell_type": "code",
   "execution_count": 3,
   "metadata": {},
   "outputs": [
    {
     "name": "stderr",
     "output_type": "stream",
     "text": [
      "2019-02-03 16:54:44,874 - testbed - INFO - Validating the devices in Testbed\n",
      "2019-02-03 16:54:46,910 - testbed - INFO - device_mininet is connected\n",
      "2019-02-03 16:54:47,357 - testbed - INFO - heliot_runtime directory created\n",
      "2019-02-03 16:54:48,985 - testbed - INFO - Heliot repo downloaded from Github\n",
      "2019-02-03 16:54:49,032 - testbed - INFO - heliot initalization done for device_mininet\n",
      "2019-02-03 16:54:51,071 - testbed - INFO - device_gvk is connected\n",
      "2019-02-03 16:54:51,620 - testbed - INFO - heliot_runtime directory created\n",
      "2019-02-03 16:54:54,600 - testbed - INFO - Heliot repo downloaded from Github\n",
      "2019-02-03 16:54:54,655 - testbed - INFO - heliot initalization done for device_gvk\n",
      "2019-02-03 16:54:54,656 - testbed - INFO - Testbed validated\n"
     ]
    }
   ],
   "source": [
    "# 1) Test the reachability of devices\n",
    "# 2) Download the Heliot repo from github on devices\n",
    "\n",
    "# 3) Starts the Heliot slaves on all the devices. \n",
    "## (Provides the RPC functionality to run Tasks)\n",
    "\n",
    "# In Andriod and other non-linux/window based devices, \n",
    "# assumption is these are setup by the user. Eg: using Android client of Heliot\n",
    "\n",
    "my_testbed.validate()"
   ]
  },
  {
   "cell_type": "markdown",
   "metadata": {},
   "source": [
    "# 2. Defining the Scenario"
   ]
  },
  {
   "cell_type": "markdown",
   "metadata": {},
   "source": [
    "## Nodes"
   ]
  },
  {
   "cell_type": "code",
   "execution_count": 4,
   "metadata": {},
   "outputs": [
    {
     "name": "stdout",
     "output_type": "stream",
     "text": [
      "Adding airsimSensor  drone  to scenario\n",
      "Adding node  Tx2  to scenario\n",
      "Adding node  gvk  to scenario\n",
      "Adding infranode  vs  to scenario\n"
     ]
    }
   ],
   "source": [
    "from scenario import *\n",
    "myScenario = scenario(name='NESL_Simple_Scenario')\n",
    "\n",
    "virtual_drone_node = airsimSensor(type='_drone', id = 'drone')\n",
    "virtual_drone_node.add_attribute('_controller','file_path')\n",
    "myScenario.add_airsimSensor(virtual_drone_node)\n",
    "\n",
    "tx2_node = node(type='_nvidia_jetson_tx2', id = 'Tx2')\n",
    "myScenario.add_node(tx2_node)\n",
    "\n",
    "gvt_node = node(type='_google_vision_kit', id = 'gvk')\n",
    "myScenario.add_node(gvt_node)\n",
    "\n",
    "virtual_switch = infranode(type='_switch', id='vs')\n",
    "myScenario.add_infranode(virtual_switch)"
   ]
  },
  {
   "cell_type": "markdown",
   "metadata": {},
   "source": [
    "## Links between Nodes"
   ]
  },
  {
   "cell_type": "code",
   "execution_count": 5,
   "metadata": {},
   "outputs": [
    {
     "name": "stdout",
     "output_type": "stream",
     "text": [
      "Adding mininetLink  link_tx2_vswitch  to scenario\n",
      "Adding mininetLink  link_gvk_vswitch  to scenario\n",
      "Adding mininetLink  link_drone_vswitch  to scenario\n"
     ]
    }
   ],
   "source": [
    "link_tx2_vswitch= mininetLink(name='link_tx2_vswitch', id_1='Tx2',id_2='vs')\n",
    "link_tx2_vswitch.add_attribute('_latency', '2') #latency in milli seconds\n",
    "\n",
    "link_gvk_vswitch= mininetLink(name='link_gvk_vswitch',id_1='gvk',id_2='vs')\n",
    "link_gvk_vswitch.add_attribute('_latency', '2') #latency in milli seconds\n",
    "\n",
    "link_drone_vswitch= mininetLink(name='link_drone_vswitch', id_1='drone',id_2='vs')\n",
    "link_drone_vswitch.add_attribute('_latency', '2') #latency in milli seconds\n",
    "\n",
    "myScenario.add_mininetLink(link_tx2_vswitch)\n",
    "myScenario.add_mininetLink(link_gvk_vswitch)\n",
    "myScenario.add_mininetLink(link_drone_vswitch)"
   ]
  },
  {
   "cell_type": "markdown",
   "metadata": {},
   "source": [
    "## Tasks and Dataflow between Tasks"
   ]
  },
  {
   "cell_type": "code",
   "execution_count": 6,
   "metadata": {},
   "outputs": [
    {
     "name": "stdout",
     "output_type": "stream",
     "text": [
      "gvt_image_data : is set as output for task:  task_gvt_camera\n",
      "drone_image_data : is set as output for task:  task_airsim_camera\n",
      "gvt_image_data : is set as input for task: task_object_inference\n",
      "drone_image_data : is set as input for task: task_object_inference\n"
     ]
    }
   ],
   "source": [
    "task_gvt_camera = taskHeliot(_type='_compute',_taskid='task_gvt_camera',_filename='Code_to_run_task',_nodeid='image_sensor_1')\n",
    "task_airsim_camera = taskHeliot(_type='_virtualSensor',_taskid='task_airsim_camera',_filename='Code_to_run_task',_nodeid='Surveillance_drone')\n",
    "task_object_inference = taskHeliot(_type='_compute',_taskid='task_object_inference',_filename='Code_to_run_task',_nodeid='Tx2_image_classifier')\n",
    "\n",
    "gvt_image_data = task_gvt_camera.get_output(\"gvt_image_data\") \n",
    "drone_image_data = task_airsim_camera.get_output(\"drone_image_data\")\n",
    "task_object_inference.set_input([gvt_image_data,drone_image_data])  #It can take list of output objects"
   ]
  },
  {
   "cell_type": "code",
   "execution_count": 7,
   "metadata": {},
   "outputs": [
    {
     "name": "stdout",
     "output_type": "stream",
     "text": [
      "Adding task: task_gvt_camera\n",
      "Adding task: task_airsim_camera\n",
      "Adding task: task_object_inference\n"
     ]
    }
   ],
   "source": [
    "myScenario.add_task(task_gvt_camera)\n",
    "myScenario.add_task(task_airsim_camera)\n",
    "myScenario.add_task(task_object_inference)"
   ]
  },
  {
   "cell_type": "code",
   "execution_count": 8,
   "metadata": {},
   "outputs": [],
   "source": [
    "## Node mapping and ## Task mapping are implicit here based on \n",
    "## Node_types and node_ids in the task definition"
   ]
  },
  {
   "cell_type": "markdown",
   "metadata": {},
   "source": [
    "# 3. Run Scenario on Testbed"
   ]
  },
  {
   "cell_type": "markdown",
   "metadata": {},
   "source": [
    "## Setting up the network topology as per Scenario"
   ]
  },
  {
   "cell_type": "code",
   "execution_count": 9,
   "metadata": {},
   "outputs": [
    {
     "name": "stdout",
     "output_type": "stream",
     "text": [
      "Adding infranodes to the network\n",
      "Adding nodes to the network\n",
      "Adding airSim sensors to the network\n"
     ]
    },
    {
     "name": "stderr",
     "output_type": "stream",
     "text": [
      "*** Ping: testing ping reachability\n",
      "Tx20 -> "
     ]
    },
    {
     "name": "stdout",
     "output_type": "stream",
     "text": [
      "Starting the network using Mininet\n"
     ]
    },
    {
     "name": "stderr",
     "output_type": "stream",
     "text": [
      "gvk0 drone0 \n",
      "gvk0 -> Tx20 drone0 \n",
      "drone0 -> Tx20 gvk0 \n",
      "*** Results: 0% dropped (6/6 received)\n"
     ]
    }
   ],
   "source": [
    "myScenario.start_network()"
   ]
  },
  {
   "cell_type": "markdown",
   "metadata": {},
   "source": [
    "## Starting the Scenario Tasks"
   ]
  },
  {
   "cell_type": "code",
   "execution_count": 10,
   "metadata": {},
   "outputs": [
    {
     "name": "stdout",
     "output_type": "stream",
     "text": [
      "Starting Task: task_gvt_camera on node: image_sensor_1\n",
      "Starting Task: task_airsim_camera on node: Surveillance_drone\n",
      "Starting Task: task_object_inference on node: Tx2_image_classifier\n"
     ]
    }
   ],
   "source": [
    "myScenario.start_tasks(my_testbed)"
   ]
  },
  {
   "cell_type": "code",
   "execution_count": null,
   "metadata": {},
   "outputs": [],
   "source": []
  }
 ],
 "metadata": {
  "kernelspec": {
   "display_name": "Python 3",
   "language": "python",
   "name": "python3"
  },
  "language_info": {
   "codemirror_mode": {
    "name": "ipython",
    "version": 3
   },
   "file_extension": ".py",
   "mimetype": "text/x-python",
   "name": "python",
   "nbconvert_exporter": "python",
   "pygments_lexer": "ipython3",
   "version": "3.5.2"
  }
 },
 "nbformat": 4,
 "nbformat_minor": 2
}
